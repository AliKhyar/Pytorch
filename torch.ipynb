{
  "nbformat": 4,
  "nbformat_minor": 0,
  "metadata": {
    "colab": {
      "name": "torch.ipynb",
      "provenance": []
    },
    "kernelspec": {
      "name": "python3",
      "display_name": "Python 3"
    },
    "accelerator": "GPU"
  },
  "cells": [
    {
      "cell_type": "code",
      "metadata": {
        "id": "h632ZX_4FQE0",
        "colab_type": "code",
        "colab": {}
      },
      "source": [
        "import torch\n",
        "import torch.nn as nn\n",
        "import torch.nn.functional as F\n",
        "import torchvision\n",
        "from torchvision import transforms, datasets\n",
        "import matplotlib.pyplot as plt\n",
        "import torch.optim as optim"
      ],
      "execution_count": 0,
      "outputs": []
    },
    {
      "cell_type": "code",
      "metadata": {
        "id": "hE6lAYqXHi05",
        "colab_type": "code",
        "colab": {
          "base_uri": "https://localhost:8080/",
          "height": 260
        },
        "outputId": "d6236411-5340-40ab-bd1a-a7cc4755b3d7"
      },
      "source": [
        "train =  datasets.MNIST(\"\", train=True, download=True, transform=transforms.Compose([transforms.ToTensor()]))\n",
        "test = train =  datasets.MNIST(\"\", train=False, download=True, transform=transforms.Compose([transforms.ToTensor()]))\n"
      ],
      "execution_count": 2,
      "outputs": [
        {
          "output_type": "stream",
          "text": [
            "\r0it [00:00, ?it/s]"
          ],
          "name": "stderr"
        },
        {
          "output_type": "stream",
          "text": [
            "Downloading http://yann.lecun.com/exdb/mnist/train-images-idx3-ubyte.gz to MNIST/raw/train-images-idx3-ubyte.gz\n"
          ],
          "name": "stdout"
        },
        {
          "output_type": "stream",
          "text": [
            "9920512it [00:03, 3172562.83it/s]                             \n"
          ],
          "name": "stderr"
        },
        {
          "output_type": "stream",
          "text": [
            "Extracting MNIST/raw/train-images-idx3-ubyte.gz to MNIST/raw\n"
          ],
          "name": "stdout"
        },
        {
          "output_type": "stream",
          "text": [
            "\r0it [00:00, ?it/s]"
          ],
          "name": "stderr"
        },
        {
          "output_type": "stream",
          "text": [
            "Downloading http://yann.lecun.com/exdb/mnist/train-labels-idx1-ubyte.gz to MNIST/raw/train-labels-idx1-ubyte.gz\n"
          ],
          "name": "stdout"
        },
        {
          "output_type": "stream",
          "text": [
            "32768it [00:00, 49363.98it/s]                           \n",
            "0it [00:00, ?it/s]"
          ],
          "name": "stderr"
        },
        {
          "output_type": "stream",
          "text": [
            "Extracting MNIST/raw/train-labels-idx1-ubyte.gz to MNIST/raw\n",
            "Downloading http://yann.lecun.com/exdb/mnist/t10k-images-idx3-ubyte.gz to MNIST/raw/t10k-images-idx3-ubyte.gz\n"
          ],
          "name": "stdout"
        },
        {
          "output_type": "stream",
          "text": [
            "1654784it [00:02, 746768.16it/s]                             \n",
            "0it [00:00, ?it/s]"
          ],
          "name": "stderr"
        },
        {
          "output_type": "stream",
          "text": [
            "Extracting MNIST/raw/t10k-images-idx3-ubyte.gz to MNIST/raw\n",
            "Downloading http://yann.lecun.com/exdb/mnist/t10k-labels-idx1-ubyte.gz to MNIST/raw/t10k-labels-idx1-ubyte.gz\n"
          ],
          "name": "stdout"
        },
        {
          "output_type": "stream",
          "text": [
            "8192it [00:00, 18444.57it/s]            "
          ],
          "name": "stderr"
        },
        {
          "output_type": "stream",
          "text": [
            "Extracting MNIST/raw/t10k-labels-idx1-ubyte.gz to MNIST/raw\n",
            "Processing...\n",
            "Done!\n"
          ],
          "name": "stdout"
        },
        {
          "output_type": "stream",
          "text": [
            "\n"
          ],
          "name": "stderr"
        }
      ]
    },
    {
      "cell_type": "code",
      "metadata": {
        "id": "1T40yTpvJo5u",
        "colab_type": "code",
        "colab": {}
      },
      "source": [
        "trainset = torch.utils.data.DataLoader(train, batch_size=10,shuffle=True)\n",
        "testset = torch.utils.data.DataLoader(test, batch_size=10,shuffle=True)\n"
      ],
      "execution_count": 0,
      "outputs": []
    },
    {
      "cell_type": "code",
      "metadata": {
        "id": "LlCYI0goKMwq",
        "colab_type": "code",
        "colab": {}
      },
      "source": [
        "for data in trainset:\n",
        "  print(data)\n",
        "  break"
      ],
      "execution_count": 0,
      "outputs": []
    },
    {
      "cell_type": "code",
      "metadata": {
        "id": "lTGg7ajJS4Tf",
        "colab_type": "code",
        "outputId": "fbb4a750-2975-4af9-995a-4e82f031fb1e",
        "colab": {
          "base_uri": "https://localhost:8080/",
          "height": 34
        }
      },
      "source": [
        "x,y = data[0][0], data[1][0]\n",
        "print(y)"
      ],
      "execution_count": 5,
      "outputs": [
        {
          "output_type": "stream",
          "text": [
            "tensor(0)\n"
          ],
          "name": "stdout"
        }
      ]
    },
    {
      "cell_type": "code",
      "metadata": {
        "id": "r_3G8dFVTH3x",
        "colab_type": "code",
        "outputId": "42d648e1-385b-4e95-e540-cb74dd529147",
        "colab": {
          "base_uri": "https://localhost:8080/",
          "height": 34
        }
      },
      "source": [
        "x.shape"
      ],
      "execution_count": 6,
      "outputs": [
        {
          "output_type": "execute_result",
          "data": {
            "text/plain": [
              "torch.Size([1, 28, 28])"
            ]
          },
          "metadata": {
            "tags": []
          },
          "execution_count": 6
        }
      ]
    },
    {
      "cell_type": "code",
      "metadata": {
        "id": "XfD84AcQTWDu",
        "colab_type": "code",
        "outputId": "58e6bc73-8319-41e8-bb4b-56a12c94d310",
        "colab": {
          "base_uri": "https://localhost:8080/",
          "height": 282
        }
      },
      "source": [
        "plt.imshow(x.view(28,28))"
      ],
      "execution_count": 7,
      "outputs": [
        {
          "output_type": "execute_result",
          "data": {
            "text/plain": [
              "<matplotlib.image.AxesImage at 0x7f42bd7560f0>"
            ]
          },
          "metadata": {
            "tags": []
          },
          "execution_count": 7
        },
        {
          "output_type": "display_data",
          "data": {
            "image/png": "[encoded data removed]",
            "text/plain": [
              "<Figure size 432x288 with 1 Axes>"
            ]
          },
          "metadata": {
            "tags": []
          }
        }
      ]
    },
    {
      "cell_type": "code",
      "metadata": {
        "id": "FfnhASVEl5RR",
        "colab_type": "code",
        "outputId": "9aa827a8-7270-4ccc-a5b6-05de66ca0de6",
        "colab": {
          "base_uri": "https://localhost:8080/",
          "height": 282
        }
      },
      "source": [
        "counter_dict = {0:0,1:0,2:0,3:0,4:0,5:0,6:0,7:0,8:0,9:0}\n",
        "for data in trainset:\n",
        "  Xs, ys = data\n",
        "  for y in ys:\n",
        "    counter_dict[int(y)] += 1\n",
        "plt.bar(counter_dict.keys(), counter_dict.values())"
      ],
      "execution_count": 8,
      "outputs": [
        {
          "output_type": "execute_result",
          "data": {
            "text/plain": [
              "<BarContainer object of 10 artists>"
            ]
          },
          "metadata": {
            "tags": []
          },
          "execution_count": 8
        },
        {
          "output_type": "display_data",
          "data": {
            "image/png": "[encoded data removed]",
            "text/plain": [
              "<Figure size 432x288 with 1 Axes>"
            ]
          },
          "metadata": {
            "tags": []
          }
        }
      ]
    },
    {
      "cell_type": "code",
      "metadata": {
        "id": "cTC5umm_5j8Q",
        "colab_type": "code",
        "outputId": "251ec3fc-41fb-4410-ea15-4eb789fe1ba0",
        "colab": {
          "base_uri": "https://localhost:8080/",
          "height": 121
        }
      },
      "source": [
        "class Net(nn.Module):\n",
        "  def __init__(self):\n",
        "    super().__init__()\n",
        "    self.fully_connected1 = nn.Linear(28*28, 64)\n",
        "    self.fully_connected2 = nn.Linear(64, 64)     # input layer i+1 is \n",
        "    self.fully_connected3 = nn.Linear(64, 64)  # output of layer i\n",
        "    self.fully_connected4 = nn.Linear(64, 10)\n",
        "  def forward(self, x):\n",
        "    x = F.relu(self.fully_connected1(x))\n",
        "    x = F.relu(self.fully_connected2(x))\n",
        "    x = F.relu(self.fully_connected3(x))\n",
        "    x = self.fully_connected4(x)\n",
        "      \n",
        "    return F.log_softmax(x,dim=1)\n",
        "      \n",
        "\n",
        "\n",
        "net = Net()\n",
        "print(net)\n",
        "\n"
      ],
      "execution_count": 9,
      "outputs": [
        {
          "output_type": "stream",
          "text": [
            "Net(\n",
            "  (fully_connected1): Linear(in_features=784, out_features=64, bias=True)\n",
            "  (fully_connected2): Linear(in_features=64, out_features=64, bias=True)\n",
            "  (fully_connected3): Linear(in_features=64, out_features=64, bias=True)\n",
            "  (fully_connected4): Linear(in_features=64, out_features=10, bias=True)\n",
            ")\n"
          ],
          "name": "stdout"
        }
      ]
    },
    {
      "cell_type": "code",
      "metadata": {
        "id": "iXihS6ZABYd9",
        "colab_type": "code",
        "colab": {}
      },
      "source": [
        "X = torch.rand((28,28))\n",
        "X = X.view(-1, 28*28)  "
      ],
      "execution_count": 0,
      "outputs": []
    },
    {
      "cell_type": "code",
      "metadata": {
        "id": "TOIz2V_aEIju",
        "colab_type": "code",
        "outputId": "1791776e-30dd-41c1-c430-2ccdcc16cabe",
        "colab": {
          "base_uri": "https://localhost:8080/",
          "height": 52
        }
      },
      "source": [
        "output = net(X)\n",
        "output"
      ],
      "execution_count": 11,
      "outputs": [
        {
          "output_type": "execute_result",
          "data": {
            "text/plain": [
              "tensor([[-2.1940, -2.2309, -2.3542, -2.2853, -2.3768, -2.3346, -2.3541, -2.2081,\n",
              "         -2.3284, -2.3821]], grad_fn=<LogSoftmaxBackward>)"
            ]
          },
          "metadata": {
            "tags": []
          },
          "execution_count": 11
        }
      ]
    },
    {
      "cell_type": "code",
      "metadata": {
        "id": "T2b7Kpx0EN4e",
        "colab_type": "code",
        "outputId": "69a5b477-5183-4795-ca70-065798a20b71",
        "colab": {
          "base_uri": "https://localhost:8080/",
          "height": 104
        }
      },
      "source": [
        "optimizer = optim.Adam(net.parameters(),lr=0.01)\n",
        "\n",
        "EPOCHS = 5\n",
        "\n",
        "for epoch in range(EPOCHS):\n",
        "  for data in trainset:\n",
        "    X,y = data\n",
        "    net.zero_grad()\n",
        "    output = net(X.view(-1,28*28))\n",
        "    loss = F.nll_loss(output,y)\n",
        "    loss.backward()\n",
        "    optimizer.step()\n",
        "  print(loss)\n"
      ],
      "execution_count": 19,
      "outputs": [
        {
          "output_type": "stream",
          "text": [
            "tensor(0.0001, grad_fn=<NllLossBackward>)\n",
            "tensor(0.3737, grad_fn=<NllLossBackward>)\n",
            "tensor(0.2072, grad_fn=<NllLossBackward>)\n",
            "tensor(0.3968, grad_fn=<NllLossBackward>)\n",
            "tensor(3.1455e-05, grad_fn=<NllLossBackward>)\n"
          ],
          "name": "stdout"
        }
      ]
    },
    {
      "cell_type": "code",
      "metadata": {
        "id": "VxtYZ6ttV52o",
        "colab_type": "code",
        "colab": {
          "base_uri": "https://localhost:8080/",
          "height": 34
        },
        "outputId": "5d5c9a09-4f49-41c1-e1c3-21ee7b2ccdf9"
      },
      "source": [
        "correct = 0\n",
        "total = 0\n",
        "with torch.no_grad():\n",
        "  for data in trainset:\n",
        "    X,y = data\n",
        "    output = net(X.view(-1,784))\n",
        "    for idx, i in enumerate(output):\n",
        "      if torch.argmax(i) == y[idx]:\n",
        "        correct += 1\n",
        "      total +=1\n",
        "print(\"accuracy: \", round(correct/total,3))\n"
      ],
      "execution_count": 22,
      "outputs": [
        {
          "output_type": "stream",
          "text": [
            "accuracy:  0.969\n"
          ],
          "name": "stdout"
        }
      ]
    },
    {
      "cell_type": "code",
      "metadata": {
        "id": "2EVT2oiBJ5pl",
        "colab_type": "code",
        "colab": {
          "base_uri": "https://localhost:8080/",
          "height": 282
        },
        "outputId": "e231ae15-2b47-4baf-d629-ddbb23ee9c6e"
      },
      "source": [
        "plt.imshow(X[4].view(28,28))\n",
        "print(torch.argmax(net(X[4].view(-1,784))[0]))"
      ],
      "execution_count": 27,
      "outputs": [
        {
          "output_type": "stream",
          "text": [
            "tensor(7)\n"
          ],
          "name": "stdout"
        },
        {
          "output_type": "display_data",
          "data": {
            "image/png": "[encoded data removed]",
            "text/plain": [
              "<Figure size 432x288 with 1 Axes>"
            ]
          },
          "metadata": {
            "tags": []
          }
        }
      ]
    },
    {
      "cell_type": "markdown",
      "metadata": {
        "id": "L0XfFvspMsbH",
        "colab_type": "text"
      },
      "source": [
        "*\n",
        "*\n",
        "\n",
        "**CONVNET**\n",
        "\n",
        "*\n",
        "*\n"
      ]
    },
    {
      "cell_type": "code",
      "metadata": {
        "id": "yf1n3tyOLBx8",
        "colab_type": "code",
        "colab": {
          "base_uri": "https://localhost:8080/",
          "height": 208
        },
        "outputId": "8be2f8a8-ee65-4ff7-bb00-9547d4310a73"
      },
      "source": [
        "! wget https://download.microsoft.com/download/3/E/1/3E1C3F21-ECDB-4869-8368-6DEBA77B919F/kagglecatsanddogs_3367a.zip "
      ],
      "execution_count": 30,
      "outputs": [
        {
          "output_type": "stream",
          "text": [
            "--2019-12-06 12:47:08--  https://download.microsoft.com/download/3/E/1/3E1C3F21-ECDB-4869-8368-6DEBA77B919F/kagglecatsanddogs_3367a.zip\n",
            "Resolving download.microsoft.com (download.microsoft.com)... 23.66.104.142, 2600:1417:3f:4a3::e59, 2600:1417:3f:4ac::e59\n",
            "Connecting to download.microsoft.com (download.microsoft.com)|23.66.104.142|:443... connected.\n",
            "HTTP request sent, awaiting response... 200 OK\n",
            "Length: 824894548 (787M) [application/octet-stream]\n",
            "Saving to: ‘kagglecatsanddogs_3367a.zip’\n",
            "\n",
            "kagglecatsanddogs_3 100%[===================>] 786.68M   113MB/s    in 7.7s    \n",
            "\n",
            "2019-12-06 12:47:16 (102 MB/s) - ‘kagglecatsanddogs_3367a.zip’ saved [824894548/824894548]\n",
            "\n"
          ],
          "name": "stdout"
        }
      ]
    },
    {
      "cell_type": "code",
      "metadata": {
        "id": "RWPzn-iwMlQr",
        "colab_type": "code",
        "colab": {
          "base_uri": "https://localhost:8080/",
          "height": 34
        },
        "outputId": "0f915fe4-55ab-4edd-fb95-b021be210789"
      },
      "source": [
        "!ls"
      ],
      "execution_count": 31,
      "outputs": [
        {
          "output_type": "stream",
          "text": [
            "kagglecatsanddogs_3367a.zip  MNIST  sample_data\n"
          ],
          "name": "stdout"
        }
      ]
    },
    {
      "cell_type": "code",
      "metadata": {
        "id": "YVxwSjL1QDbS",
        "colab_type": "code",
        "colab": {}
      },
      "source": [
        "! unzip kagglecatsanddogs_3367a.zip"
      ],
      "execution_count": 0,
      "outputs": []
    },
    {
      "cell_type": "code",
      "metadata": {
        "id": "EFFlaR7DRI-Z",
        "colab_type": "code",
        "colab": {
          "base_uri": "https://localhost:8080/",
          "height": 52
        },
        "outputId": "525a6e73-539a-46a9-a54e-dbd5048251a1"
      },
      "source": [
        "!ls"
      ],
      "execution_count": 34,
      "outputs": [
        {
          "output_type": "stream",
          "text": [
            " kagglecatsanddogs_3367a.zip  'MSR-LA - 3467.docx'  'readme[1].txt'\n",
            " MNIST\t\t\t       PetImages\t     sample_data\n"
          ],
          "name": "stdout"
        }
      ]
    },
    {
      "cell_type": "code",
      "metadata": {
        "id": "YlT9gAAwS29u",
        "colab_type": "code",
        "colab": {
          "base_uri": "https://localhost:8080/",
          "height": 34
        },
        "outputId": "ebbb4943-f975-45f8-eeab-9cdda5496dc3"
      },
      "source": [
        "!ls PetImages"
      ],
      "execution_count": 39,
      "outputs": [
        {
          "output_type": "stream",
          "text": [
            "Cat  Dog\n"
          ],
          "name": "stdout"
        }
      ]
    },
    {
      "cell_type": "code",
      "metadata": {
        "id": "LxC0qt24RJWb",
        "colab_type": "code",
        "colab": {}
      },
      "source": [
        "import os\n",
        "import cv2\n",
        "import numpy as np\n",
        "from tqdm import tqdm\n",
        "\n",
        "REBUILD_DATA = True"
      ],
      "execution_count": 0,
      "outputs": []
    },
    {
      "cell_type": "code",
      "metadata": {
        "id": "PKV_h8psRgON",
        "colab_type": "code",
        "colab": {
          "base_uri": "https://localhost:8080/",
          "height": 86
        },
        "outputId": "090ea7b4-2514-439c-8192-91b3fb8c22fe"
      },
      "source": [
        "class DogsVSCats():\n",
        "  IMG_SIZE = 50\n",
        "  CATS = \"PetImages/Cat\"\n",
        "  DOGS = \"PetImages/Dog\"\n",
        "  LABELS = {CATS: 0, DOGS: 1}\n",
        "  training_data = []\n",
        "  catcount = 0\n",
        "  dogcount = 0\n",
        "  def make_training_data(self):\n",
        "    for label in self.LABELS:\n",
        "      try:\n",
        "        for f in tqdm(os.listdir(label)):\n",
        "          path = os.path.join(label, f)\n",
        "          img = cv2.imread(path, cv2.IMREAD_GRAYSCALE)\n",
        "          img = cv2.resize(img,(self.IMG_SIZE,self.IMG_SIZE))\n",
        "          self.training_data.append([np.array(img),np.eye(2)[self.LABELS[label]]])\n",
        "          \n",
        "          if label == self.CATS:\n",
        "            self.catcount += 1\n",
        "          elif label == self.DOGS:\n",
        "            self.dogcount += 1\n",
        "      except Exception as e:\n",
        "          pass\n",
        "    np.random.shuffle(self.training_data)\n",
        "    np.save(\"training_data.npy\",self.training_data)\n",
        "    print(\"Cats: \",self.catcount)\n",
        "    print(\"Dogs: \",self.dogcount)\n",
        "\n",
        "if REBUILD_DATA:\n",
        "  dogsvscats = DogsVSCats()\n",
        "  dogsvscats.make_training_data()"
      ],
      "execution_count": 52,
      "outputs": [
        {
          "output_type": "stream",
          "text": [
            "  0%|          | 0/12501 [00:00<?, ?it/s]\n",
            "  1%|          | 101/12501 [00:00<00:12, 1004.98it/s]"
          ],
          "name": "stderr"
        },
        {
          "output_type": "stream",
          "text": [
            "Cats:  44\n",
            "Dogs:  133\n"
          ],
          "name": "stdout"
        },
        {
          "output_type": "stream",
          "text": [
            "\n"
          ],
          "name": "stderr"
        }
      ]
    },
    {
      "cell_type": "code",
      "metadata": {
        "id": "5JVovKRtbl0Q",
        "colab_type": "code",
        "colab": {}
      },
      "source": [
        ""
      ],
      "execution_count": 0,
      "outputs": []
    }
  ]
}